{
 "cells": [
  {
   "metadata": {
    "ExecuteTime": {
     "end_time": "2025-07-10T06:38:16.688609Z",
     "start_time": "2025-07-10T06:38:14.609841Z"
    }
   },
   "cell_type": "code",
   "source": [
    "from model import llm\n",
    "from typing import TypedDict, List, Union, Annotated, Sequence\n",
    "from langchain_core.messages import BaseMessage, HumanMessage, AIMessage, ToolMessage, SystemMessage\n",
    "from langchain_core.tools import tool\n",
    "from langgraph.graph.message import add_messages\n",
    "from langgraph.graph import StateGraph, START, END\n",
    "from langgraph.prebuilt import ToolNode\n",
    "from IPython.display import Image, display"
   ],
   "id": "bd9e34c8d02ee21",
   "outputs": [],
   "execution_count": 1
  },
  {
   "metadata": {},
   "cell_type": "markdown",
   "source": "## Simple Agent",
   "id": "8dbc045b18229e20"
  },
  {
   "metadata": {
    "ExecuteTime": {
     "end_time": "2025-07-08T12:23:20.336665Z",
     "start_time": "2025-07-08T12:23:20.333882Z"
    }
   },
   "cell_type": "code",
   "outputs": [],
   "execution_count": 2,
   "source": [
    "class AgentState(TypedDict):\n",
    "    messages: List[HumanMessage]\n",
    "\n",
    "\n",
    "def process(state: AgentState) -> AgentState:\n",
    "    response = llm.invoke(state[\"messages\"])\n",
    "    print(f\"\\nAI: {response.content}\")\n",
    "    return state"
   ],
   "id": "209d90562845f007"
  },
  {
   "metadata": {
    "ExecuteTime": {
     "end_time": "2025-07-08T12:23:24.668185Z",
     "start_time": "2025-07-08T12:23:24.665284Z"
    }
   },
   "cell_type": "code",
   "source": [
    "graph = StateGraph(AgentState)\n",
    "graph.add_node(\"process\", process)\n",
    "graph.add_edge(START, \"process\")\n",
    "graph.add_edge(\"process\", END)\n",
    "agent = graph.compile()\n",
    "\n",
    "display(Image(agent.get_graph().draw_mermaid_png()))"
   ],
   "id": "2080e42ef34f1150",
   "outputs": [],
   "execution_count": 3
  },
  {
   "metadata": {
    "ExecuteTime": {
     "end_time": "2025-07-08T12:23:54.182093Z",
     "start_time": "2025-07-08T12:23:29.087287Z"
    }
   },
   "cell_type": "code",
   "source": [
    "user_input = input(\"Enter: \")\n",
    "while user_input != \"exit\":\n",
    "    agent.invoke({\"messages\": [HumanMessage(content=user_input)]})\n",
    "    user_input = input(\"Enter: \")"
   ],
   "id": "81be82497f60cf29",
   "outputs": [
    {
     "name": "stdout",
     "output_type": "stream",
     "text": [
      "\n",
      "AI: Hi there! How can I help you today?\n",
      "\n",
      "AI: As an AI, I don't have feelings or a physical body, so I don't experience \"being\" in the same way humans do. However, I am functioning perfectly and ready to assist you!\n",
      "\n",
      "How are *you* doing today?\n"
     ]
    }
   ],
   "execution_count": 5
  },
  {
   "metadata": {},
   "cell_type": "markdown",
   "source": "## Agent with Memory",
   "id": "c1410d56fa76183e"
  },
  {
   "metadata": {
    "ExecuteTime": {
     "end_time": "2025-07-08T12:48:18.432164Z",
     "start_time": "2025-07-08T12:48:18.429793Z"
    }
   },
   "cell_type": "code",
   "source": [
    "class AgentState(TypedDict):\n",
    "    messages: List[Union[HumanMessage, AIMessage]]\n",
    "\n",
    "\n",
    "def process(state: AgentState) -> AgentState:\n",
    "    \"\"\"This node will solve the request you input\"\"\"\n",
    "    response = llm.invoke(state[\"messages\"])\n",
    "\n",
    "    state[\"messages\"].append(AIMessage(content=response.content))\n",
    "    print(f\"\\nAI: {response.content}\")\n",
    "    # print(\"CURRENT STATE: \", state[\"messages\"])\n",
    "    return state"
   ],
   "id": "3a22bbe7e12a6c8",
   "outputs": [],
   "execution_count": 19
  },
  {
   "metadata": {
    "ExecuteTime": {
     "end_time": "2025-07-08T12:48:21.138881Z",
     "start_time": "2025-07-08T12:48:20.315288Z"
    }
   },
   "cell_type": "code",
   "source": [
    "graph = StateGraph(AgentState)\n",
    "graph.add_node(\"process\", process)\n",
    "graph.add_edge(START, \"process\")\n",
    "graph.add_edge(\"process\", END)\n",
    "agent = graph.compile()\n",
    "\n",
    "display(Image(agent.get_graph().draw_mermaid_png()))"
   ],
   "id": "33e694dca4a7a4bd",
   "outputs": [
    {
     "data": {
      "image/png": "[encoded data removed]",
      "text/plain": [
       "<IPython.core.display.Image object>"
      ]
     },
     "metadata": {},
     "output_type": "display_data"
    }
   ],
   "execution_count": 20
  },
  {
   "metadata": {
    "ExecuteTime": {
     "end_time": "2025-07-08T13:16:17.496617Z",
     "start_time": "2025-07-08T13:16:17.494401Z"
    }
   },
   "cell_type": "code",
   "source": "conversation_history = []",
   "id": "af0373d3646176b4",
   "outputs": [],
   "execution_count": 27
  },
  {
   "metadata": {
    "ExecuteTime": {
     "end_time": "2025-07-08T13:17:48.031627Z",
     "start_time": "2025-07-08T13:17:30.326148Z"
    }
   },
   "cell_type": "code",
   "source": [
    "user_input = input(\"Enter: \")\n",
    "while user_input != \"exit\":\n",
    "    conversation_history.append(HumanMessage(content=user_input))\n",
    "    result = agent.invoke({\"messages\": conversation_history})\n",
    "    conversation_history = result[\"messages\"]\n",
    "\n",
    "    user_input = input(\"Enter: \")\n",
    "\n",
    "with open(\"logging.txt\", \"w\") as file:\n",
    "    file.write(\"Your Conversation Log:\\n\")\n",
    "\n",
    "    for message in conversation_history:\n",
    "        if isinstance(message, HumanMessage):\n",
    "            file.write(f\"Human: {message.content}\\n\")\n",
    "        elif isinstance(message, AIMessage):\n",
    "            file.write(f\"AI: {message.content}\\n\\n\")\n",
    "    file.write(\"End of Conversation\")\n",
    "\n",
    "print(\"Conversation saved to logging.txt\")"
   ],
   "id": "33ea55cd3651e3bc",
   "outputs": [
    {
     "name": "stdout",
     "output_type": "stream",
     "text": [
      "\n",
      "AI: 2 + 2 = 4\n",
      "\n",
      "AI: Your name is Romit.\n",
      "Conversation saved to logging.txt\n"
     ]
    }
   ],
   "execution_count": 30
  },
  {
   "metadata": {},
   "cell_type": "markdown",
   "source": "## React Agent",
   "id": "37610e0e7ff94dde"
  },
  {
   "metadata": {
    "ExecuteTime": {
     "end_time": "2025-07-10T06:42:37.180211Z",
     "start_time": "2025-07-10T06:42:37.177871Z"
    }
   },
   "cell_type": "code",
   "source": [
    "# email = Annotated[str, \"Email address\"]\n",
    "\n",
    "class AgentState(TypedDict):\n",
    "    messages: Annotated[Sequence[BaseMessage], add_messages]"
   ],
   "id": "83ce3d1f7d4d0021",
   "outputs": [],
   "execution_count": 2
  },
  {
   "metadata": {
    "ExecuteTime": {
     "end_time": "2025-07-10T06:45:09.975861Z",
     "start_time": "2025-07-10T06:45:09.964345Z"
    }
   },
   "cell_type": "code",
   "source": [
    "@tool\n",
    "def add(a: int, b: int) -> int:\n",
    "    \"\"\"Adds two numbers.\"\"\"\n",
    "    return a + b\n",
    "\n",
    "@tool\n",
    "def subtract(a: int, b: int) -> int:\n",
    "    \"\"\"Subtracts two numbers.\"\"\"\n",
    "    return a - b\n",
    "\n",
    "@tool\n",
    "def multiply(a: int, b: int) -> int:\n",
    "    \"\"\"Multiplies two numbers.\"\"\"\n",
    "    return a * b\n",
    "\n",
    "tools = [add, subtract, multiply]\n",
    "llm = llm.bind_tools(tools)"
   ],
   "id": "f7385ee25904d398",
   "outputs": [],
   "execution_count": 4
  },
  {
   "metadata": {
    "ExecuteTime": {
     "end_time": "2025-07-10T06:54:43.195163Z",
     "start_time": "2025-07-10T06:54:42.043547Z"
    }
   },
   "cell_type": "code",
   "source": [
    "def model_call(state: AgentState) -> AgentState:\n",
    "    \"\"\"This node will solve the request you input\"\"\"\n",
    "    system_prompt = SystemMessage(content = \"You are my AI assistant. I will ask you to perform some tasks. You can use the tools provided to help you solve the tasks.\")\n",
    "\n",
    "    response = llm.invoke([system_prompt] + state[\"messages\"])\n",
    "    return {\"messages\": [response]}\n",
    "\n",
    "\n",
    "def should_continue(state: AgentState):\n",
    "    \"\"\"This node will check if the agent should continue or not\"\"\"\n",
    "    last_message = state[\"messages\"][-1]\n",
    "    if not last_message.tool_calls:\n",
    "        return \"end\"\n",
    "    else:\n",
    "        return \"continue\"\n",
    "\n",
    "\n",
    "graph = StateGraph(AgentState)\n",
    "graph.add_node(\"our_agent\", model_call)\n",
    "\n",
    "tool_node = ToolNode(tools=tools)\n",
    "graph.add_node(\"tool_node\", tool_node)\n",
    "\n",
    "graph.set_entry_point(\"our_agent\")\n",
    "\n",
    "graph.add_conditional_edges(\n",
    "    \"our_agent\",\n",
    "    should_continue,\n",
    "    {\n",
    "        \"continue\": \"tool_node\",\n",
    "        \"end\": END\n",
    "    }\n",
    ")\n",
    "\n",
    "graph.add_edge(\"tool_node\", \"our_agent\")\n",
    "\n",
    "agent = graph.compile()\n",
    "display(Image(agent.get_graph().draw_mermaid_png()))"
   ],
   "id": "ef190532ad5a491a",
   "outputs": [
    {
     "data": {
      "image/png": "[encoded data removed]",
      "text/plain": [
       "<IPython.core.display.Image object>"
      ]
     },
     "metadata": {},
     "output_type": "display_data"
    }
   ],
   "execution_count": 5
  },
  {
   "metadata": {
    "ExecuteTime": {
     "end_time": "2025-07-10T06:58:20.569041Z",
     "start_time": "2025-07-10T06:58:20.566430Z"
    }
   },
   "cell_type": "code",
   "source": [
    "def print_stream(stream):\n",
    "    for s in stream:\n",
    "        message = s[\"messages\"][-1]\n",
    "        if isinstance(message, tuple):\n",
    "            print(message)\n",
    "        else:\n",
    "            message.pretty_print()"
   ],
   "id": "f6e06a4d1db7b97f",
   "outputs": [],
   "execution_count": 8
  },
  {
   "metadata": {
    "ExecuteTime": {
     "end_time": "2025-07-10T07:04:24.465025Z",
     "start_time": "2025-07-10T07:04:20.174044Z"
    }
   },
   "cell_type": "code",
   "source": [
    "inputs = {\"messages\": [(\"user\", \"add 40 + 12 and then multiply by 2. also tell me a gay joke\")]}\n",
    "print_stream(agent.stream(inputs, stream_mode=\"values\"))"
   ],
   "id": "1f38488437349c5e",
   "outputs": [
    {
     "name": "stdout",
     "output_type": "stream",
     "text": [
      "================================\u001B[1m Human Message \u001B[0m=================================\n",
      "\n",
      "add 40 + 12 and then multiply by 2. also tell me a gay joke\n",
      "==================================\u001B[1m Ai Message \u001B[0m==================================\n",
      "Tool Calls:\n",
      "  add (36666d7b-37a8-4233-9bf5-a5ddb405621e)\n",
      " Call ID: 36666d7b-37a8-4233-9bf5-a5ddb405621e\n",
      "  Args:\n",
      "    b: 12.0\n",
      "    a: 40.0\n",
      "=================================\u001B[1m Tool Message \u001B[0m=================================\n",
      "Name: add\n",
      "\n",
      "52\n",
      "==================================\u001B[1m Ai Message \u001B[0m==================================\n",
      "Tool Calls:\n",
      "  multiply (ec9be95c-9449-461a-ad04-8f942c47c38d)\n",
      " Call ID: ec9be95c-9449-461a-ad04-8f942c47c38d\n",
      "  Args:\n",
      "    b: 2.0\n",
      "    a: 52.0\n",
      "=================================\u001B[1m Tool Message \u001B[0m=================================\n",
      "Name: multiply\n",
      "\n",
      "104\n",
      "==================================\u001B[1m Ai Message \u001B[0m==================================\n",
      "\n",
      "The sum of 40 and 12 is 52, and then multiplying by 2 gives 104.\n",
      "\n",
      "Why did the gay ghost go to the party?\n",
      "Because he heard it was a *boo*-tiful gathering!\n"
     ]
    }
   ],
   "execution_count": 12
  }
 ],
 "metadata": {
  "kernelspec": {
   "name": "python3",
   "language": "python",
   "display_name": "Python 3 (ipykernel)"
  }
 },
 "nbformat": 5,
 "nbformat_minor": 9
}
