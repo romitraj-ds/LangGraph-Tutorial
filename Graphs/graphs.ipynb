{
  "nbformat": 4,
  "nbformat_minor": 0,
  "metadata": {
    "colab": {
      "provenance": []
    },
    "kernelspec": {
      "name": "python3",
      "display_name": "Python 3"
    },
    "language_info": {
      "name": "python"
    }
  },
  "cells": [
    {
      "cell_type": "markdown",
      "source": [
        "## Installs and Import"
      ],
      "metadata": {
        "id": "Zy-uX7DSy_YG"
      }
    },
    {
      "cell_type": "code",
      "source": [
        "!pip install langgraph"
      ],
      "metadata": {
        "colab": {
          "base_uri": "https://localhost:8080/"
        },
        "id": "LI0oLpWkqnGM",
        "outputId": "1ca58f22-68af-4196-a86b-c4aa7277f86f"
      },
      "execution_count": 116,
      "outputs": [
        {
          "output_type": "stream",
          "name": "stdout",
          "text": [
            "Requirement already satisfied: langgraph in /usr/local/lib/python3.11/dist-packages (0.5.1)\n",
            "Requirement already satisfied: langchain-core>=0.1 in /usr/local/lib/python3.11/dist-packages (from langgraph) (0.3.67)\n",
            "Requirement already satisfied: langgraph-checkpoint<3.0.0,>=2.1.0 in /usr/local/lib/python3.11/dist-packages (from langgraph) (2.1.0)\n",
            "Requirement already satisfied: langgraph-prebuilt<0.6.0,>=0.5.0 in /usr/local/lib/python3.11/dist-packages (from langgraph) (0.5.2)\n",
            "Requirement already satisfied: langgraph-sdk<0.2.0,>=0.1.42 in /usr/local/lib/python3.11/dist-packages (from langgraph) (0.1.72)\n",
            "Requirement already satisfied: pydantic>=2.7.4 in /usr/local/lib/python3.11/dist-packages (from langgraph) (2.11.7)\n",
            "Requirement already satisfied: xxhash>=3.5.0 in /usr/local/lib/python3.11/dist-packages (from langgraph) (3.5.0)\n",
            "Requirement already satisfied: langsmith>=0.3.45 in /usr/local/lib/python3.11/dist-packages (from langchain-core>=0.1->langgraph) (0.4.4)\n",
            "Requirement already satisfied: tenacity!=8.4.0,<10.0.0,>=8.1.0 in /usr/local/lib/python3.11/dist-packages (from langchain-core>=0.1->langgraph) (8.5.0)\n",
            "Requirement already satisfied: jsonpatch<2.0,>=1.33 in /usr/local/lib/python3.11/dist-packages (from langchain-core>=0.1->langgraph) (1.33)\n",
            "Requirement already satisfied: PyYAML>=5.3 in /usr/local/lib/python3.11/dist-packages (from langchain-core>=0.1->langgraph) (6.0.2)\n",
            "Requirement already satisfied: packaging<25,>=23.2 in /usr/local/lib/python3.11/dist-packages (from langchain-core>=0.1->langgraph) (24.2)\n",
            "Requirement already satisfied: typing-extensions>=4.7 in /usr/local/lib/python3.11/dist-packages (from langchain-core>=0.1->langgraph) (4.14.0)\n",
            "Requirement already satisfied: ormsgpack>=1.10.0 in /usr/local/lib/python3.11/dist-packages (from langgraph-checkpoint<3.0.0,>=2.1.0->langgraph) (1.10.0)\n",
            "Requirement already satisfied: httpx>=0.25.2 in /usr/local/lib/python3.11/dist-packages (from langgraph-sdk<0.2.0,>=0.1.42->langgraph) (0.28.1)\n",
            "Requirement already satisfied: orjson>=3.10.1 in /usr/local/lib/python3.11/dist-packages (from langgraph-sdk<0.2.0,>=0.1.42->langgraph) (3.10.18)\n",
            "Requirement already satisfied: annotated-types>=0.6.0 in /usr/local/lib/python3.11/dist-packages (from pydantic>=2.7.4->langgraph) (0.7.0)\n",
            "Requirement already satisfied: pydantic-core==2.33.2 in /usr/local/lib/python3.11/dist-packages (from pydantic>=2.7.4->langgraph) (2.33.2)\n",
            "Requirement already satisfied: typing-inspection>=0.4.0 in /usr/local/lib/python3.11/dist-packages (from pydantic>=2.7.4->langgraph) (0.4.1)\n",
            "Requirement already satisfied: anyio in /usr/local/lib/python3.11/dist-packages (from httpx>=0.25.2->langgraph-sdk<0.2.0,>=0.1.42->langgraph) (4.9.0)\n",
            "Requirement already satisfied: certifi in /usr/local/lib/python3.11/dist-packages (from httpx>=0.25.2->langgraph-sdk<0.2.0,>=0.1.42->langgraph) (2025.6.15)\n",
            "Requirement already satisfied: httpcore==1.* in /usr/local/lib/python3.11/dist-packages (from httpx>=0.25.2->langgraph-sdk<0.2.0,>=0.1.42->langgraph) (1.0.9)\n",
            "Requirement already satisfied: idna in /usr/local/lib/python3.11/dist-packages (from httpx>=0.25.2->langgraph-sdk<0.2.0,>=0.1.42->langgraph) (3.10)\n",
            "Requirement already satisfied: h11>=0.16 in /usr/local/lib/python3.11/dist-packages (from httpcore==1.*->httpx>=0.25.2->langgraph-sdk<0.2.0,>=0.1.42->langgraph) (0.16.0)\n",
            "Requirement already satisfied: jsonpointer>=1.9 in /usr/local/lib/python3.11/dist-packages (from jsonpatch<2.0,>=1.33->langchain-core>=0.1->langgraph) (3.0.0)\n",
            "Requirement already satisfied: requests<3,>=2 in /usr/local/lib/python3.11/dist-packages (from langsmith>=0.3.45->langchain-core>=0.1->langgraph) (2.32.3)\n",
            "Requirement already satisfied: requests-toolbelt<2.0.0,>=1.0.0 in /usr/local/lib/python3.11/dist-packages (from langsmith>=0.3.45->langchain-core>=0.1->langgraph) (1.0.0)\n",
            "Requirement already satisfied: zstandard<0.24.0,>=0.23.0 in /usr/local/lib/python3.11/dist-packages (from langsmith>=0.3.45->langchain-core>=0.1->langgraph) (0.23.0)\n",
            "Requirement already satisfied: charset-normalizer<4,>=2 in /usr/local/lib/python3.11/dist-packages (from requests<3,>=2->langsmith>=0.3.45->langchain-core>=0.1->langgraph) (3.4.2)\n",
            "Requirement already satisfied: urllib3<3,>=1.21.1 in /usr/local/lib/python3.11/dist-packages (from requests<3,>=2->langsmith>=0.3.45->langchain-core>=0.1->langgraph) (2.4.0)\n",
            "Requirement already satisfied: sniffio>=1.1 in /usr/local/lib/python3.11/dist-packages (from anyio->httpx>=0.25.2->langgraph-sdk<0.2.0,>=0.1.42->langgraph) (1.3.1)\n"
          ]
        }
      ]
    },
    {
      "cell_type": "code",
      "execution_count": 117,
      "metadata": {
        "id": "XSDBlWGxqdVR"
      },
      "outputs": [],
      "source": [
        "import random\n",
        "from typing import Dict, TypedDict, List\n",
        "from langgraph.graph import StateGraph, START, END"
      ]
    },
    {
      "cell_type": "markdown",
      "source": [
        "## Simple Graph"
      ],
      "metadata": {
        "id": "vvXNSTwtsQR9"
      }
    },
    {
      "cell_type": "code",
      "source": [
        "class AgentState(TypedDict):\n",
        "  message: str\n",
        "\n",
        "def greeter(state: AgentState) -> AgentState:\n",
        "  \"\"\"Simple node that adds a greeting message to the state\"\"\"\n",
        "  state[\"message\"] = f\"Hi {state['message']}, How are you?\"\n",
        "  return state"
      ],
      "metadata": {
        "id": "LNZApnA9quAr"
      },
      "execution_count": 118,
      "outputs": []
    },
    {
      "cell_type": "code",
      "source": [
        "graph = StateGraph(AgentState)\n",
        "\n",
        "graph.add_node(\"greeter\", greeter)\n",
        "graph.set_entry_point(\"greeter\")\n",
        "graph.set_finish_point(\"greeter\")\n",
        "\n",
        "app = graph.compile()"
      ],
      "metadata": {
        "id": "6fmLuFPkree_"
      },
      "execution_count": 119,
      "outputs": []
    },
    {
      "cell_type": "code",
      "source": [
        "from IPython.display import Image, display\n",
        "display(Image(app.get_graph().draw_mermaid_png()))"
      ],
      "metadata": {
        "colab": {
          "base_uri": "https://localhost:8080/",
          "height": 0
        },
        "id": "4EpO_R-7rzh0",
        "outputId": "486ee013-8cb2-46d7-df30-030213f9e650"
      },
      "execution_count": 120,
      "outputs": [
        {
          "output_type": "display_data",
          "data": {
            "image/png": "[encoded data removed]",
            "text/plain": [
              "<IPython.core.display.Image object>"
            ]
          },
          "metadata": {}
        }
      ]
    },
    {
      "cell_type": "code",
      "source": [
        "result = app.invoke({\"message\": \"Romit\"})"
      ],
      "metadata": {
        "id": "Z7kq5XkUr6Uf"
      },
      "execution_count": 121,
      "outputs": []
    },
    {
      "cell_type": "code",
      "source": [
        "result"
      ],
      "metadata": {
        "colab": {
          "base_uri": "https://localhost:8080/"
        },
        "id": "nm16AaPesFha",
        "outputId": "e123bbc1-e9e8-4844-857c-9f81316c66cc"
      },
      "execution_count": 122,
      "outputs": [
        {
          "output_type": "execute_result",
          "data": {
            "text/plain": [
              "{'message': 'Hi Romit, How are you?'}"
            ]
          },
          "metadata": {},
          "execution_count": 122
        }
      ]
    },
    {
      "cell_type": "markdown",
      "source": [
        "## Multiple Input Graph"
      ],
      "metadata": {
        "id": "ICcHHbm8sTHQ"
      }
    },
    {
      "cell_type": "code",
      "source": [
        "class AgentState(TypedDict):\n",
        "  name: str\n",
        "  input: List[int]\n",
        "  result: str\n",
        "\n",
        "def processor(state: AgentState) -> AgentState:\n",
        "  \"\"\"This function handles multiple different inputs\"\"\"\n",
        "  sums = sum(state[\"input\"])\n",
        "  state[\"result\"] = f\"Hi {state['name']}, Here is your answer {sums}?\"\n",
        "  return state"
      ],
      "metadata": {
        "id": "Wtwlkn54sSap"
      },
      "execution_count": 123,
      "outputs": []
    },
    {
      "cell_type": "code",
      "source": [
        "graph = StateGraph(AgentState)\n",
        "\n",
        "graph.add_node(\"processor\", processor)\n",
        "graph.set_entry_point(\"processor\")\n",
        "graph.set_finish_point(\"processor\")\n",
        "\n",
        "app = graph.compile()"
      ],
      "metadata": {
        "id": "bw1rP94itZ0A"
      },
      "execution_count": 124,
      "outputs": []
    },
    {
      "cell_type": "code",
      "source": [
        "from IPython.display import Image, display\n",
        "display(Image(app.get_graph().draw_mermaid_png()))"
      ],
      "metadata": {
        "colab": {
          "base_uri": "https://localhost:8080/",
          "height": 0
        },
        "id": "WcXT_nv7tg3D",
        "outputId": "60a65f68-8d2c-4a33-8574-6f0d07554441"
      },
      "execution_count": 125,
      "outputs": [
        {
          "output_type": "display_data",
          "data": {
            "image/png": "[encoded data removed]",
            "text/plain": [
              "<IPython.core.display.Image object>"
            ]
          },
          "metadata": {}
        }
      ]
    },
    {
      "cell_type": "code",
      "source": [
        "result = app.invoke({\"name\": \"Romit\", \"input\": [1, 2, 3, 4]})"
      ],
      "metadata": {
        "id": "zarh3V8atitI"
      },
      "execution_count": 126,
      "outputs": []
    },
    {
      "cell_type": "code",
      "source": [
        "result[\"result\"]"
      ],
      "metadata": {
        "colab": {
          "base_uri": "https://localhost:8080/",
          "height": 0
        },
        "id": "-mAjKQSduF_J",
        "outputId": "b895f863-91f0-4d2f-e8d2-e20c9a599308"
      },
      "execution_count": 127,
      "outputs": [
        {
          "output_type": "execute_result",
          "data": {
            "text/plain": [
              "'Hi Romit, Here is your answer 10?'"
            ],
            "application/vnd.google.colaboratory.intrinsic+json": {
              "type": "string"
            }
          },
          "metadata": {},
          "execution_count": 127
        }
      ]
    },
    {
      "cell_type": "markdown",
      "source": [
        "## Sequential Graph"
      ],
      "metadata": {
        "id": "jUMIy_JfwZ_N"
      }
    },
    {
      "cell_type": "code",
      "source": [
        "class AgentState(TypedDict):\n",
        "  name: str\n",
        "  birth_year: int\n",
        "  result: str\n",
        "\n",
        "def first_node(state: AgentState) -> AgentState:\n",
        "  \"\"\"This is the first node of our sequence\"\"\"\n",
        "  state[\"name\"] = f\"Hi {state['name']}\"\n",
        "  return state\n",
        "\n",
        "def second_node(state: AgentState) -> AgentState:\n",
        "  \"\"\"This is the second node of our sequence\"\"\"\n",
        "  age = 2025 - state[\"birth_year\"]\n",
        "  state[\"result\"] = f\"{state['name']}, You are {age} years old today\"\n",
        "  return state"
      ],
      "metadata": {
        "id": "U-lXpPrmwcvf"
      },
      "execution_count": 128,
      "outputs": []
    },
    {
      "cell_type": "code",
      "source": [
        "graph = StateGraph(AgentState)\n",
        "\n",
        "graph.add_node(\"first_node\", first_node)\n",
        "graph.add_node(\"second_node\", second_node)\n",
        "graph.add_edge(\"first_node\", \"second_node\")\n",
        "\n",
        "graph.set_entry_point(\"first_node\")\n",
        "graph.set_finish_point(\"second_node\")\n",
        "\n",
        "app = graph.compile()"
      ],
      "metadata": {
        "id": "-qKNl5E0x238"
      },
      "execution_count": 129,
      "outputs": []
    },
    {
      "cell_type": "code",
      "source": [
        "from IPython.display import Image, display\n",
        "display(Image(app.get_graph().draw_mermaid_png()))"
      ],
      "metadata": {
        "colab": {
          "base_uri": "https://localhost:8080/",
          "height": 0
        },
        "id": "iwAdbgQlyQ8Z",
        "outputId": "6d44d1c9-5ac0-4a6a-ccb5-5ba485d925b7"
      },
      "execution_count": 130,
      "outputs": [
        {
          "output_type": "display_data",
          "data": {
            "image/png": "[encoded data removed]",
            "text/plain": [
              "<IPython.core.display.Image object>"
            ]
          },
          "metadata": {}
        }
      ]
    },
    {
      "cell_type": "code",
      "source": [
        "result = app.invoke({\"name\": \"Romit\", \"birth_year\": 1994})"
      ],
      "metadata": {
        "id": "5J2yfoLhyexU"
      },
      "execution_count": 131,
      "outputs": []
    },
    {
      "cell_type": "code",
      "source": [
        "result[\"result\"]"
      ],
      "metadata": {
        "colab": {
          "base_uri": "https://localhost:8080/",
          "height": 0
        },
        "id": "ApFMnOgmypmc",
        "outputId": "6411c3f1-94cd-42b5-b7ec-39ee9c602b12"
      },
      "execution_count": 132,
      "outputs": [
        {
          "output_type": "execute_result",
          "data": {
            "text/plain": [
              "'Hi Romit, You are 31 years old today'"
            ],
            "application/vnd.google.colaboratory.intrinsic+json": {
              "type": "string"
            }
          },
          "metadata": {},
          "execution_count": 132
        }
      ]
    },
    {
      "cell_type": "markdown",
      "source": [
        "## Conditional Graph"
      ],
      "metadata": {
        "id": "ig2HGh16y14K"
      }
    },
    {
      "cell_type": "code",
      "source": [
        "class AgentState(TypedDict):\n",
        "    number1: int\n",
        "    operation: str\n",
        "    number2: int\n",
        "    finalNumber: int"
      ],
      "metadata": {
        "id": "gRR4HBbGy7tV"
      },
      "execution_count": 133,
      "outputs": []
    },
    {
      "cell_type": "code",
      "source": [
        "def adder(state:AgentState) -> AgentState:\n",
        "    \"\"\"This node adds the 2 numbers\"\"\"\n",
        "    state[\"finalNumber\"] = state[\"number1\"] + state[\"number2\"]\n",
        "    return state\n",
        "\n",
        "def subtractor(state:AgentState) -> AgentState:\n",
        "    \"\"\"This node subtracts the 2 numbers\"\"\"\n",
        "    state[\"finalNumber\"] = state[\"number1\"] - state[\"number2\"]\n",
        "    return state\n",
        "\n",
        "\n",
        "def decide_next_node(state:AgentState) -> AgentState:\n",
        "    \"\"\"This node will select the next node of the graph\"\"\"\n",
        "\n",
        "    if state[\"operation\"] == \"+\":\n",
        "        return \"addition_operation\"\n",
        "    elif state[\"operation\"] == \"-\":\n",
        "        return \"subtraction_operation\""
      ],
      "metadata": {
        "id": "WnO-IAmT2HWC"
      },
      "execution_count": 134,
      "outputs": []
    },
    {
      "cell_type": "code",
      "source": [
        "graph = StateGraph(AgentState)\n",
        "\n",
        "graph.add_node(\"add_node\", adder)\n",
        "graph.add_node(\"subtract_node\", subtractor)\n",
        "graph.add_node(\"router\", lambda state:state)\n",
        "\n",
        "graph.add_edge(START, \"router\")\n",
        "graph.add_conditional_edges(\n",
        "    \"router\",\n",
        "    decide_next_node,\n",
        "    # Edge: Node\n",
        "    path_map = {\n",
        "        \"addition_operation\": \"add_node\",\n",
        "        \"subtraction_operation\": \"subtract_node\"\n",
        "    }\n",
        ")\n",
        "\n",
        "graph.add_edge(\"add_node\", END)\n",
        "graph.add_edge(\"subtract_node\", END)\n",
        "\n",
        "app = graph.compile()"
      ],
      "metadata": {
        "id": "SmWlrTmr2PJR"
      },
      "execution_count": 135,
      "outputs": []
    },
    {
      "cell_type": "code",
      "source": [
        "from IPython.display import Image, display\n",
        "display(Image(app.get_graph().draw_mermaid_png()))"
      ],
      "metadata": {
        "colab": {
          "base_uri": "https://localhost:8080/",
          "height": 0
        },
        "id": "wG8DMXyq3_2A",
        "outputId": "99a955ef-be49-4751-a9d7-7322ddfde7d7"
      },
      "execution_count": 136,
      "outputs": [
        {
          "output_type": "display_data",
          "data": {
            "image/png": "[encoded data removed]",
            "text/plain": [
              "<IPython.core.display.Image object>"
            ]
          },
          "metadata": {}
        }
      ]
    },
    {
      "cell_type": "code",
      "source": [
        "result = app.invoke({\"number1\": 5, \"operation\": \"-\", \"number2\": 1})"
      ],
      "metadata": {
        "id": "SRMe3sO94K9A"
      },
      "execution_count": 137,
      "outputs": []
    },
    {
      "cell_type": "code",
      "source": [
        "result"
      ],
      "metadata": {
        "colab": {
          "base_uri": "https://localhost:8080/"
        },
        "id": "EzO0wSXz4dfO",
        "outputId": "6932d464-8732-49d9-e69a-f4e9b77eaaab"
      },
      "execution_count": 138,
      "outputs": [
        {
          "output_type": "execute_result",
          "data": {
            "text/plain": [
              "{'number1': 5, 'operation': '-', 'number2': 1, 'finalNumber': 4}"
            ]
          },
          "metadata": {},
          "execution_count": 138
        }
      ]
    },
    {
      "cell_type": "code",
      "source": [
        "result = app.invoke({\"number1\": 5, \"operation\": \"+\", \"number2\": 1})"
      ],
      "metadata": {
        "id": "WPa0yJ6u4eob"
      },
      "execution_count": 139,
      "outputs": []
    },
    {
      "cell_type": "code",
      "source": [
        "result"
      ],
      "metadata": {
        "colab": {
          "base_uri": "https://localhost:8080/"
        },
        "id": "i6HUs9_84lNj",
        "outputId": "bccfa9c1-747a-4b72-95d5-3674bb9a1812"
      },
      "execution_count": 140,
      "outputs": [
        {
          "output_type": "execute_result",
          "data": {
            "text/plain": [
              "{'number1': 5, 'operation': '+', 'number2': 1, 'finalNumber': 6}"
            ]
          },
          "metadata": {},
          "execution_count": 140
        }
      ]
    },
    {
      "cell_type": "markdown",
      "source": [
        "## Conditonal Graph 2"
      ],
      "metadata": {
        "id": "9uk1rRUw4vAp"
      }
    },
    {
      "cell_type": "code",
      "source": [
        "class AgentState(TypedDict):\n",
        "    number1: int\n",
        "    operation1: str\n",
        "    number2: int\n",
        "    number3: int\n",
        "    operation2: str\n",
        "    number4: int\n",
        "    finalNumber1: int\n",
        "    finalNumber2: int"
      ],
      "metadata": {
        "id": "Q-o075wy4wUb"
      },
      "execution_count": 141,
      "outputs": []
    },
    {
      "cell_type": "code",
      "source": [
        "def adder1(state:AgentState) -> AgentState:\n",
        "    \"\"\"This node adds the 2 numbers\"\"\"\n",
        "    state[\"finalNumber1\"] = state[\"number1\"] + state[\"number2\"]\n",
        "    return state\n",
        "\n",
        "def subtractor1(state:AgentState) -> AgentState:\n",
        "    \"\"\"This node subtracts the 2 numbers\"\"\"\n",
        "    state[\"finalNumber1\"] = state[\"number1\"] - state[\"number2\"]\n",
        "    return state\n",
        "\n",
        "def adder2(state:AgentState) -> AgentState:\n",
        "    \"\"\"This node adds the 2 numbers\"\"\"\n",
        "    state[\"finalNumber2\"] = state[\"number3\"] + state[\"number4\"]\n",
        "    return state\n",
        "\n",
        "def subtractor2(state:AgentState) -> AgentState:\n",
        "    \"\"\"This node subtracts the 2 numbers\"\"\"\n",
        "    state[\"finalNumber2\"] = state[\"number3\"] - state[\"number4\"]\n",
        "    return state\n",
        "\n",
        "\n",
        "def decide_next_node1(state:AgentState) -> AgentState:\n",
        "    \"\"\"This node will select the next node of the graph\"\"\"\n",
        "\n",
        "    if state[\"operation1\"] == \"+\":\n",
        "        return \"addition_operation1\"\n",
        "    elif state[\"operation1\"] == \"-\":\n",
        "        return \"subtraction_operation1\"\n",
        "\n",
        "def decide_next_node2(state:AgentState) -> AgentState:\n",
        "    \"\"\"This node will select the next node of the graph\"\"\"\n",
        "\n",
        "    if state[\"operation2\"] == \"+\":\n",
        "        return \"addition_operation2\"\n",
        "    elif state[\"operation2\"] == \"-\":\n",
        "        return \"subtraction_operation2\""
      ],
      "metadata": {
        "id": "C7rxJgEO6egt"
      },
      "execution_count": 142,
      "outputs": []
    },
    {
      "cell_type": "code",
      "source": [
        "graph = StateGraph(AgentState)\n",
        "\n",
        "graph.add_node(\"add_node1\", adder1)\n",
        "graph.add_node(\"subtract_node1\", subtractor1)\n",
        "graph.add_node(\"router1\", lambda state:state)\n",
        "\n",
        "graph.add_edge(START, \"router1\")\n",
        "graph.add_conditional_edges(\n",
        "    \"router1\",\n",
        "    decide_next_node1,\n",
        "    # Edge: Node\n",
        "    path_map = {\n",
        "        \"addition_operation1\": \"add_node1\",\n",
        "        \"subtraction_operation1\": \"subtract_node1\"\n",
        "    }\n",
        ")\n",
        "\n",
        "graph.add_node(\"add_node2\", adder2)\n",
        "graph.add_node(\"subtract_node2\", subtractor2)\n",
        "graph.add_node(\"router2\", lambda state:state)\n",
        "\n",
        "graph.add_edge(\"add_node1\", \"router2\")\n",
        "graph.add_edge(\"subtract_node1\", \"router2\")\n",
        "graph.add_conditional_edges(\n",
        "    \"router2\",\n",
        "    decide_next_node2,\n",
        "    # Edge: Node\n",
        "    path_map = {\n",
        "        \"addition_operation2\": \"add_node2\",\n",
        "        \"subtraction_operation2\": \"subtract_node2\"\n",
        "    }\n",
        ")\n",
        "\n",
        "graph.add_edge(\"add_node2\", END)\n",
        "graph.add_edge(\"subtract_node2\", END)\n",
        "\n",
        "app = graph.compile()"
      ],
      "metadata": {
        "id": "_VuhFi3V61vh"
      },
      "execution_count": 143,
      "outputs": []
    },
    {
      "cell_type": "code",
      "source": [
        "from IPython.display import Image, display\n",
        "display(Image(app.get_graph().draw_mermaid_png()))"
      ],
      "metadata": {
        "colab": {
          "base_uri": "https://localhost:8080/",
          "height": 0
        },
        "id": "sQAZ4WVy7WO9",
        "outputId": "c6662b46-fc5f-4437-bdf0-3fd61f37f77d"
      },
      "execution_count": 144,
      "outputs": [
        {
          "output_type": "display_data",
          "data": {
            "image/png": "[encoded data removed]",
            "text/plain": [
              "<IPython.core.display.Image object>"
            ]
          },
          "metadata": {}
        }
      ]
    },
    {
      "cell_type": "code",
      "source": [
        "result = app.invoke({\"number1\": 5, \"operation1\": \"-\", \"number2\": 1, \"number3\": 5, \"operation2\": \"+\", \"number4\": 1})"
      ],
      "metadata": {
        "id": "lH1A8qJX8NDw"
      },
      "execution_count": 145,
      "outputs": []
    },
    {
      "cell_type": "code",
      "source": [
        "result"
      ],
      "metadata": {
        "colab": {
          "base_uri": "https://localhost:8080/"
        },
        "id": "hmYxHQ_-8fRD",
        "outputId": "1346e57a-1d60-4901-c1c5-6ba2b54447d7"
      },
      "execution_count": 146,
      "outputs": [
        {
          "output_type": "execute_result",
          "data": {
            "text/plain": [
              "{'number1': 5,\n",
              " 'operation1': '-',\n",
              " 'number2': 1,\n",
              " 'number3': 5,\n",
              " 'operation2': '+',\n",
              " 'number4': 1,\n",
              " 'finalNumber1': 4,\n",
              " 'finalNumber2': 6}"
            ]
          },
          "metadata": {},
          "execution_count": 146
        }
      ]
    },
    {
      "cell_type": "code",
      "source": [
        "result = app.invoke({\"number1\": 5, \"operation1\": \"+\", \"number2\": 1, \"number3\": 5, \"operation2\": \"-\", \"number4\": 1})"
      ],
      "metadata": {
        "id": "goeBkDZl8zy6"
      },
      "execution_count": 147,
      "outputs": []
    },
    {
      "cell_type": "code",
      "source": [
        "result"
      ],
      "metadata": {
        "colab": {
          "base_uri": "https://localhost:8080/"
        },
        "id": "LFe4Rg-781y1",
        "outputId": "ff808bb2-dcc3-4913-d7cb-44647df889b4"
      },
      "execution_count": 148,
      "outputs": [
        {
          "output_type": "execute_result",
          "data": {
            "text/plain": [
              "{'number1': 5,\n",
              " 'operation1': '+',\n",
              " 'number2': 1,\n",
              " 'number3': 5,\n",
              " 'operation2': '-',\n",
              " 'number4': 1,\n",
              " 'finalNumber1': 6,\n",
              " 'finalNumber2': 4}"
            ]
          },
          "metadata": {},
          "execution_count": 148
        }
      ]
    },
    {
      "cell_type": "markdown",
      "source": [
        "## Looping"
      ],
      "metadata": {
        "id": "tznYDWfW86Ne"
      }
    },
    {
      "cell_type": "code",
      "source": [
        "class AgentState(TypedDict):\n",
        "    name: str\n",
        "    number: List[int]\n",
        "    counter: int"
      ],
      "metadata": {
        "id": "pjvX14Xr87ah"
      },
      "execution_count": 149,
      "outputs": []
    },
    {
      "cell_type": "code",
      "source": [
        "def greeting_node(state: AgentState) -> AgentState:\n",
        "    \"\"\"Greeting Node which says hi to the person\"\"\"\n",
        "    state[\"name\"] = f\"Hi there, {state['name']}\"\n",
        "    state[\"counter\"] = 0\n",
        "\n",
        "    return state\n",
        "\n",
        "def random_node(state: AgentState) -> AgentState:\n",
        "    \"\"\"Generates a random number from 0 to 10\"\"\"\n",
        "    state[\"number\"].append(random.randint(0, 10))\n",
        "    state[\"counter\"] += 1\n",
        "\n",
        "    return state\n",
        "\n",
        "\n",
        "def should_continue(state: AgentState) -> AgentState:\n",
        "    \"\"\"Function to decide what to do next\"\"\"\n",
        "    if state[\"counter\"] < 5:\n",
        "        print(\"ENTERING LOOP\", state[\"counter\"])\n",
        "        return \"loop\"  # Continue looping\n",
        "    else:\n",
        "        return \"exit\"  # Exit the loop"
      ],
      "metadata": {
        "id": "hq6hNukRCryR"
      },
      "execution_count": 150,
      "outputs": []
    },
    {
      "cell_type": "code",
      "source": [
        "graph = StateGraph(AgentState)\n",
        "\n",
        "graph.add_node(\"greeting\", greeting_node)\n",
        "graph.add_node(\"random\", random_node)\n",
        "graph.add_edge(\"greeting\", \"random\")\n",
        "\n",
        "\n",
        "graph.add_conditional_edges(\n",
        "    \"random\",     # Source node\n",
        "    should_continue, # Action\n",
        "    {\n",
        "        \"loop\": \"random\",\n",
        "        \"exit\": END\n",
        "    }\n",
        ")\n",
        "\n",
        "graph.set_entry_point(\"greeting\")\n",
        "\n",
        "app = graph.compile()"
      ],
      "metadata": {
        "id": "b8sk7WcVDEpj"
      },
      "execution_count": 151,
      "outputs": []
    },
    {
      "cell_type": "code",
      "source": [
        "from IPython.display import Image, display\n",
        "display(Image(app.get_graph().draw_mermaid_png()))"
      ],
      "metadata": {
        "colab": {
          "base_uri": "https://localhost:8080/",
          "height": 0
        },
        "id": "iEMe5vsQDFS9",
        "outputId": "1d7819a3-8ca1-4194-e91b-ab8879a35d51"
      },
      "execution_count": 152,
      "outputs": [
        {
          "output_type": "display_data",
          "data": {
            "image/png": "[encoded data removed]",
            "text/plain": [
              "<IPython.core.display.Image object>"
            ]
          },
          "metadata": {}
        }
      ]
    },
    {
      "cell_type": "code",
      "source": [
        "app.invoke({\"name\":\"Vaibhav\", \"number\":[], \"counter\":1})"
      ],
      "metadata": {
        "colab": {
          "base_uri": "https://localhost:8080/"
        },
        "id": "Tv2SWM7tDHXY",
        "outputId": "f9f8f19d-1537-4526-9638-ab46593b8367"
      },
      "execution_count": 153,
      "outputs": [
        {
          "output_type": "stream",
          "name": "stdout",
          "text": [
            "ENTERING LOOP 1\n",
            "ENTERING LOOP 2\n",
            "ENTERING LOOP 3\n",
            "ENTERING LOOP 4\n"
          ]
        },
        {
          "output_type": "execute_result",
          "data": {
            "text/plain": [
              "{'name': 'Hi there, Vaibhav', 'number': [4, 3, 2, 10, 9], 'counter': 5}"
            ]
          },
          "metadata": {},
          "execution_count": 153
        }
      ]
    }
  ]
}